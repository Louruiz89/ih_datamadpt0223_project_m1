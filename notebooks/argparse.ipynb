{
 "cells": [
  {
   "cell_type": "code",
   "execution_count": 1,
   "id": "72224441",
   "metadata": {},
   "outputs": [],
   "source": [
    "import pandas as pd\n",
    "import argparse"
   ]
  },
  {
   "cell_type": "code",
   "execution_count": 2,
   "id": "c1c8b32a",
   "metadata": {},
   "outputs": [],
   "source": [
    "df = pd.read_csv('../data/final_result.csv')"
   ]
  },
  {
   "cell_type": "code",
   "execution_count": 3,
   "id": "ad569707",
   "metadata": {},
   "outputs": [
    {
     "data": {
      "text/html": [
       "<div>\n",
       "<style scoped>\n",
       "    .dataframe tbody tr th:only-of-type {\n",
       "        vertical-align: middle;\n",
       "    }\n",
       "\n",
       "    .dataframe tbody tr th {\n",
       "        vertical-align: top;\n",
       "    }\n",
       "\n",
       "    .dataframe thead th {\n",
       "        text-align: right;\n",
       "    }\n",
       "</style>\n",
       "<table border=\"1\" class=\"dataframe\">\n",
       "  <thead>\n",
       "    <tr style=\"text-align: right;\">\n",
       "      <th></th>\n",
       "      <th>Place of interest</th>\n",
       "      <th>Type of place</th>\n",
       "      <th>Place address</th>\n",
       "      <th>BiciMAD station</th>\n",
       "      <th>Station location</th>\n",
       "    </tr>\n",
       "  </thead>\n",
       "  <tbody>\n",
       "    <tr>\n",
       "      <th>0</th>\n",
       "      <td>Consulado de Argentina</td>\n",
       "      <td>Consulado</td>\n",
       "      <td>CALLE FERNANDO EL SANTO 15 PLANTA BAJA</td>\n",
       "      <td>8 - Alonso Martínez</td>\n",
       "      <td>Plaza de Alonso Martínez nº 5</td>\n",
       "    </tr>\n",
       "    <tr>\n",
       "      <th>1</th>\n",
       "      <td>Embajada de Argentina</td>\n",
       "      <td>Embajada</td>\n",
       "      <td>CALLE FERNANDO EL SANTO 15 PLANTA 1</td>\n",
       "      <td>8 - Alonso Martínez</td>\n",
       "      <td>Plaza de Alonso Martínez nº 5</td>\n",
       "    </tr>\n",
       "    <tr>\n",
       "      <th>2</th>\n",
       "      <td>Embajada de Brasil</td>\n",
       "      <td>Embajada</td>\n",
       "      <td>CALLE FERNANDO EL SANTO 6</td>\n",
       "      <td>8 - Alonso Martínez</td>\n",
       "      <td>Plaza de Alonso Martínez nº 5</td>\n",
       "    </tr>\n",
       "  </tbody>\n",
       "</table>\n",
       "</div>"
      ],
      "text/plain": [
       "        Place of interest Type of place   \n",
       "0  Consulado de Argentina     Consulado  \\\n",
       "1   Embajada de Argentina     Embajada    \n",
       "2      Embajada de Brasil     Embajada    \n",
       "\n",
       "                            Place address      BiciMAD station   \n",
       "0  CALLE FERNANDO EL SANTO 15 PLANTA BAJA  8 - Alonso Martínez  \\\n",
       "1     CALLE FERNANDO EL SANTO 15 PLANTA 1  8 - Alonso Martínez   \n",
       "2               CALLE FERNANDO EL SANTO 6  8 - Alonso Martínez   \n",
       "\n",
       "                Station location  \n",
       "0  Plaza de Alonso Martínez nº 5  \n",
       "1  Plaza de Alonso Martínez nº 5  \n",
       "2  Plaza de Alonso Martínez nº 5  "
      ]
     },
     "execution_count": 3,
     "metadata": {},
     "output_type": "execute_result"
    }
   ],
   "source": [
    "df[:3]"
   ]
  },
  {
   "cell_type": "code",
   "execution_count": 4,
   "id": "5107f052",
   "metadata": {},
   "outputs": [],
   "source": [
    "def show_all(csv):\n",
    "    return df[:10]\n",
    "    \n",
    "def embasy(one):\n",
    "    return input('Select an Embassy or a Consulship to get the nearest BiciMAD Station: ')"
   ]
  },
  {
   "cell_type": "code",
   "execution_count": 5,
   "id": "133a4fa3",
   "metadata": {},
   "outputs": [],
   "source": [
    "def argument_parser():\n",
    "    parser = argparse.ArgumentParser(description= 'Application to know the closest BiciMAD Station to embassies' )\n",
    "    help_message ='You have two options. Option 1: \"Example\" show 10 rows of the CSV file. Option 2: \"Check a Place\" find the nearest BiciMAD Station' \n",
    "    parser.add_argument('-f', '--function', help=help_message, type=str)\n",
    "    args = parser.parse_args()\n",
    "    return args"
   ]
  },
  {
   "cell_type": "code",
   "execution_count": 6,
   "id": "dd4e882d",
   "metadata": {},
   "outputs": [
    {
     "name": "stdout",
     "output_type": "stream",
     "text": [
      "Welcome to the BiciMAD Station nearest to each Embassy and Consulship\n"
     ]
    }
   ],
   "source": [
    "print('Welcome to the BiciMAD Station nearest to each Embassy and Consulship')"
   ]
  },
  {
   "cell_type": "code",
   "execution_count": 8,
   "id": "db954564",
   "metadata": {},
   "outputs": [
    {
     "name": "stdout",
     "output_type": "stream",
     "text": [
      "Select an Embassy or a Consulship to get the nearest BiciMAD Station: Consulado de Argentina\n",
      "8 - Alonso Martínez\n"
     ]
    }
   ],
   "source": [
    "def find_address():\n",
    "    place = input(\"Select an Embassy or a Consulship to get the nearest BiciMAD Station: \")\n",
    "    result = df.loc[df['Place of interest'] == place, 'BiciMAD station'].iloc[0]\n",
    "    print(result)\n",
    "\n",
    "# Call the function to start the search\n",
    "find_address()"
   ]
  },
  {
   "cell_type": "code",
   "execution_count": 7,
   "id": "e4b50742",
   "metadata": {},
   "outputs": [
    {
     "name": "stdout",
     "output_type": "stream",
     "text": [
      "The result is => FATAL ERROR...sorry the APP is not able to do that, bye\n"
     ]
    }
   ],
   "source": [
    "if __name__ == '__main__':\n",
    "    if argument_parser().function == 'Example':\n",
    "        result = print(df[:10])\n",
    "    elif argument_parser().function == 'Check a Place':\n",
    "        result = find_address()\n",
    "    else:\n",
    "        result = 'FATAL ERROR...sorry the APP is not able to do that, bye'\n",
    "    print(f'The result is => {result}')"
   ]
  },
  {
   "cell_type": "code",
   "execution_count": null,
   "id": "e690fe2f",
   "metadata": {},
   "outputs": [],
   "source": []
  },
  {
   "cell_type": "code",
   "execution_count": null,
   "id": "cd10732e",
   "metadata": {},
   "outputs": [],
   "source": []
  },
  {
   "cell_type": "code",
   "execution_count": null,
   "id": "fac263b6",
   "metadata": {},
   "outputs": [],
   "source": []
  }
 ],
 "metadata": {
  "kernelspec": {
   "display_name": "project_new_env",
   "language": "python",
   "name": "project_new_env"
  },
  "language_info": {
   "codemirror_mode": {
    "name": "ipython",
    "version": 3
   },
   "file_extension": ".py",
   "mimetype": "text/x-python",
   "name": "python",
   "nbconvert_exporter": "python",
   "pygments_lexer": "ipython3",
   "version": "3.11.3"
  }
 },
 "nbformat": 4,
 "nbformat_minor": 5
}
