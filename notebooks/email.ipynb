{
 "cells": [
  {
   "cell_type": "code",
   "execution_count": 6,
   "id": "6c8d2eb9",
   "metadata": {},
   "outputs": [],
   "source": [
    "import smtplib\n",
    "from email.mime.multipart import MIMEMultipart\n",
    "from email.mime.text import MIMEText\n",
    "import pandas as pd"
   ]
  },
  {
   "cell_type": "code",
   "execution_count": 4,
   "id": "bfcfc180",
   "metadata": {},
   "outputs": [],
   "source": [
    "df = pd.read_csv('../data/final_result.csv')"
   ]
  },
  {
   "cell_type": "code",
   "execution_count": 5,
   "id": "cf1fad16",
   "metadata": {},
   "outputs": [],
   "source": [
    "df.to_csv('../result/data.csv', index=False)"
   ]
  },
  {
   "cell_type": "code",
   "execution_count": 7,
   "id": "ab34f2c2",
   "metadata": {},
   "outputs": [],
   "source": [
    "sender = 'ruiz.lourdes89@gmail.com'\n",
    "receiver = 'ruiz.lourdes89@gmail.com'\n",
    "subject = 'BiciMAD Stations & Embassies'\n",
    "body = 'Please find attached CSV file with the requested information.'"
   ]
  },
  {
   "cell_type": "code",
   "execution_count": 9,
   "id": "3e53f978",
   "metadata": {},
   "outputs": [
    {
     "ename": "AttributeError",
     "evalue": "'bytes' object has no attribute 'encode'",
     "output_type": "error",
     "traceback": [
      "\u001b[1;31m---------------------------------------------------------------------------\u001b[0m",
      "\u001b[1;31mAttributeError\u001b[0m                            Traceback (most recent call last)",
      "Cell \u001b[1;32mIn[9], line 2\u001b[0m\n\u001b[0;32m      1\u001b[0m attachment \u001b[38;5;241m=\u001b[39m \u001b[38;5;28mopen\u001b[39m(\u001b[38;5;124m'\u001b[39m\u001b[38;5;124m../result/data.csv\u001b[39m\u001b[38;5;124m'\u001b[39m, \u001b[38;5;124m'\u001b[39m\u001b[38;5;124mrb\u001b[39m\u001b[38;5;124m'\u001b[39m)\n\u001b[1;32m----> 2\u001b[0m csv_part \u001b[38;5;241m=\u001b[39m MIMEText(attachment\u001b[38;5;241m.\u001b[39mread(), \u001b[38;5;124m'\u001b[39m\u001b[38;5;124mcsv\u001b[39m\u001b[38;5;124m'\u001b[39m)\n\u001b[0;32m      3\u001b[0m csv_part\u001b[38;5;241m.\u001b[39madd_header(\u001b[38;5;124m'\u001b[39m\u001b[38;5;124mContent-Disposition\u001b[39m\u001b[38;5;124m'\u001b[39m, \u001b[38;5;124m'\u001b[39m\u001b[38;5;124mattachment\u001b[39m\u001b[38;5;124m'\u001b[39m, filename\u001b[38;5;241m=\u001b[39m\u001b[38;5;124m'\u001b[39m\u001b[38;5;124mdata.csv\u001b[39m\u001b[38;5;124m'\u001b[39m)\n",
      "File \u001b[1;32m~\\miniconda3\\envs\\project_new_env\\Lib\\email\\mime\\text.py:34\u001b[0m, in \u001b[0;36mMIMEText.__init__\u001b[1;34m(self, _text, _subtype, _charset, policy)\u001b[0m\n\u001b[0;32m     32\u001b[0m \u001b[38;5;28;01mif\u001b[39;00m _charset \u001b[38;5;129;01mis\u001b[39;00m \u001b[38;5;28;01mNone\u001b[39;00m:\n\u001b[0;32m     33\u001b[0m     \u001b[38;5;28;01mtry\u001b[39;00m:\n\u001b[1;32m---> 34\u001b[0m         _text\u001b[38;5;241m.\u001b[39mencode(\u001b[38;5;124m'\u001b[39m\u001b[38;5;124mus-ascii\u001b[39m\u001b[38;5;124m'\u001b[39m)\n\u001b[0;32m     35\u001b[0m         _charset \u001b[38;5;241m=\u001b[39m \u001b[38;5;124m'\u001b[39m\u001b[38;5;124mus-ascii\u001b[39m\u001b[38;5;124m'\u001b[39m\n\u001b[0;32m     36\u001b[0m     \u001b[38;5;28;01mexcept\u001b[39;00m \u001b[38;5;167;01mUnicodeEncodeError\u001b[39;00m:\n",
      "\u001b[1;31mAttributeError\u001b[0m: 'bytes' object has no attribute 'encode'"
     ]
    }
   ],
   "source": [
    "attachment = open('../result/data.csv', 'rb')\n",
    "csv_part = MIMEText(attachment.read(), 'csv')\n",
    "csv_part.add_header('Content-Disposition', 'attachment', filename='data.csv')"
   ]
  },
  {
   "cell_type": "code",
   "execution_count": null,
   "id": "9228bd27",
   "metadata": {},
   "outputs": [],
   "source": [
    "msg = MIMEMultipart()\n",
    "msg['From'] = sender\n",
    "msg['To'] = receiver\n",
    "msg['Subject'] = subject\n",
    "msg.attach(MIMEText(body, 'plain'))\n",
    "msg.attach(csv_part)"
   ]
  },
  {
   "cell_type": "code",
   "execution_count": null,
   "id": "667ed58b",
   "metadata": {},
   "outputs": [],
   "source": [
    "smtp_server = 'smtp.gmail.com'\n",
    "smtp_port = 587\n",
    "username = 'sender@gmail.com'\n",
    "password = 'password'\n",
    "\n",
    "server = smtplib.SMTP(smtp_server, smtp_port)\n",
    "server.starttls()\n",
    "server.login(username, password)\n",
    "server.sendmail(sender, receiver, msg.as_string())\n",
    "server.quit()"
   ]
  }
 ],
 "metadata": {
  "kernelspec": {
   "display_name": "project_new_env",
   "language": "python",
   "name": "project_new_env"
  },
  "language_info": {
   "codemirror_mode": {
    "name": "ipython",
    "version": 3
   },
   "file_extension": ".py",
   "mimetype": "text/x-python",
   "name": "python",
   "nbconvert_exporter": "python",
   "pygments_lexer": "ipython3",
   "version": "3.11.3"
  }
 },
 "nbformat": 4,
 "nbformat_minor": 5
}
